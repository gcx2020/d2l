{
 "cells": [
  {
   "cell_type": "markdown",
   "id": "e1c1ed5c-62f5-4827-9686-756d78f7880c",
   "metadata": {},
   "source": [
    "## 3.3. 线性回归的简洁实现\n",
    "在过去的几年里，出于对深度学习强烈的兴趣，许多公司、学者和业余爱好者开发了各种成熟的开源框架。 这些框架可以**自动化基于梯度的学习算法中重复性的工作**。 在3.2节中，我们只运用了： （1）通过张量来进行数据存储和线性代数； （2）通过自动微分来计算梯度。 实际上，由于**数据迭代器、损失函数、优化器和神经网络层**很常用， 现代深度学习库也为我们实现了这些组件。\n",
    "\n",
    "本节将介绍如何通过使用深度学习框架来简洁地实现 3.2节中的线性回归模型。"
   ]
  },
  {
   "cell_type": "markdown",
   "id": "f6762d6b-544d-4554-987a-8a9e108d8fc8",
   "metadata": {},
   "source": [
    "### 3.3.1. 生成数据集\n",
    "与3.2节中类似，我们首先生成数据集。"
   ]
  },
  {
   "cell_type": "code",
   "execution_count": 1,
   "id": "9c54408b-db5b-41ee-a25a-84574501992b",
   "metadata": {},
   "outputs": [],
   "source": [
    "import numpy as np\n",
    "import torch\n",
    "from torch.utils import data\n",
    "from d2l import torch as d2l\n",
    "\n",
    "true_w = torch.tensor([2,-3.4])\n",
    "true_b =  4.2\n",
    "features,labels = d2l.synthetic_data(true_w,true_b,1000)"
   ]
  },
  {
   "cell_type": "markdown",
   "id": "986e0c4b-5958-42d8-af81-85123985c942",
   "metadata": {},
   "source": [
    "### 3.3.2 读取数据集\n",
    "我们可以调用框架中现有的API来读取数据。 我们将features和labels作为API的参数传递，并通过数据迭代器指定batch_size。 此外，布尔值is_train表示是否希望数据迭代器对象在每个迭代周期内打乱数据。"
   ]
  },
  {
   "cell_type": "code",
   "execution_count": 2,
   "id": "63f7f17e-b069-4be7-b8bf-f5cec7e8d558",
   "metadata": {},
   "outputs": [],
   "source": [
    "def load_array(data_arrays,batch_size,is_train=True): #@save\n",
    "    \"\"\"构造一个Pytorch数据迭代器\"\"\"\n",
    "    dataset = data.TensorDataset(*data_arrays)\n",
    "    return data.DataLoader(dataset,batch_size,shuffle=is_train)\n",
    "\n",
    "batch_size = 10\n",
    "data_iter = load_array((features,labels),batch_size)"
   ]
  },
  {
   "cell_type": "markdown",
   "id": "5f954e33-91a2-429d-9fe1-8182c7b78ecd",
   "metadata": {},
   "source": [
    "使用data_iter的方式与我们在 3.2节中使用data_iter函数的方式相同。为了验证是否正常工作，让我们读取并打印第一个小批量样本。 与 3.2节不同，这里我们使用iter构造Python迭代器，并使用next从迭代器中获取第一项。"
   ]
  },
  {
   "cell_type": "code",
   "execution_count": 3,
   "id": "bb7d7ae5-e0b3-49c7-a154-90bb314f3cef",
   "metadata": {},
   "outputs": [
    {
     "data": {
      "text/plain": [
       "[tensor([[-0.7339, -0.2266],\n",
       "         [-0.3436, -0.1925],\n",
       "         [-1.1787,  1.6975],\n",
       "         [ 0.8984, -0.5557],\n",
       "         [-2.5067, -0.0043],\n",
       "         [ 0.5310, -1.1752],\n",
       "         [ 0.8736,  0.1891],\n",
       "         [-1.0641,  0.9071],\n",
       "         [ 0.6063, -1.6231],\n",
       "         [ 0.5486,  0.5362]]),\n",
       " tensor([[ 3.4989],\n",
       "         [ 4.1607],\n",
       "         [-3.9246],\n",
       "         [ 7.8891],\n",
       "         [-0.8102],\n",
       "         [ 9.2600],\n",
       "         [ 5.3215],\n",
       "         [-0.9924],\n",
       "         [10.9448],\n",
       "         [ 3.4710]])]"
      ]
     },
     "execution_count": 3,
     "metadata": {},
     "output_type": "execute_result"
    }
   ],
   "source": [
    "next(iter(data_iter))"
   ]
  },
  {
   "attachments": {},
   "cell_type": "markdown",
   "id": "b6db6ec5-b616-4952-897f-425bdce59b38",
   "metadata": {},
   "source": [
    "### 3.3.3 定义模型\n",
    "当我们在 3.2节中实现线性回归时，我们明确定义了模型参数变量，并编写了计算的代码，这样通过基本的线性代数运算得到输出。 但是，如果模型变得更加复杂，且当我们几乎每天都需要实现模型时，自然会想简化这个过程。 这种情况类似于为自己的博客从零开始编写网页。 做一两次是有益的，但如果每个新博客就需要工程师花一个月的时间重新开始编写网页，那并不高效。\n",
    "\n",
    "对于标准深度学习模型，我们可以使用框架的预定义好的层。这使我们只需关注使用哪些层来构造模型，而不必关注层的实现细节。 我们首先定义一个模型变量`net`，它是一个`Sequential`类的实例。`Sequential`类将多个层串联在一起。 当给定输入数据时，`Sequential`实例将数据传入到第一层， 然后将第一层的输出作为第二层的输入，以此类推。 在下面的例子中，我们的模型只包含一个层，因此实际上不需要`Sequential`。 但是由于以后几乎所有的模型都是多层的，在这里使用`Sequential`会让你熟悉“标准的流水线”。\n",
    "回顾 图3.1.2中的单层网络架构， 这一单层被称为全连接层（`fully-connected layer`）， 因为它的每一个输入都通过矩阵-向量乘法得到它的每个输出。<br>\n",
    "![全连接](https://zh.d2l.ai/_images/singleneuron.svg) <br>\n",
    "对于线性回归，每个输入都与每个输出（在本例中只有一个输出）相连， 我们将这种变换（ 如上图所示中的输出层） 称为**全连接层**（fully-connected layer）或称为**稠密层**（dense layer）。\n",
    "\n",
    "在`PyTorch`中，全连接层在`Linear`类中定义。 值得注意的是，我们将两个参数传递到`nn.Linear`中。 第一个指定输入特征形状，即2，第二个指定输出特征形状，输出特征形状为单个标量，因此为1。"
   ]
  },
  {
   "cell_type": "code",
   "execution_count": 4,
   "id": "eb0dcc5c-0cf9-4a56-adc0-5712bdf38eaa",
   "metadata": {},
   "outputs": [],
   "source": [
    "#nn是神经网络的缩写\n",
    "from torch import nn\n",
    "\n",
    "net = nn.Sequential(nn.Linear(2,1))"
   ]
  },
  {
   "cell_type": "markdown",
   "id": "36c48d5f-e3af-4b25-a55b-ace613590c99",
   "metadata": {},
   "source": [
    "### 3.3.4. 初始化模型参数\n",
    "在使用`net`之前，我们需要初始化模型参数。 如在线性回归模型中的权重和偏置。 深度学习框架通常有预定义的方法来初始化参数。 在这里，我们指定每个权重参数应该从均值为0、标准差为0.01的正态分布中随机采样，偏置参数将初始化为零。"
   ]
  },
  {
   "cell_type": "markdown",
   "id": "20dad9b4-16a5-4367-86ec-f632917c9836",
   "metadata": {},
   "source": [
    "正如我们在构造`nn.Linear`时指定输入和输出尺寸一样， 现在我们能直接访问参数以设定它们的初始值。 我们通过`net[0]`选择网络中的第一个图层，然后使用`weight.data`和`bias.data`方法访问参数。 我们还可以使用替换方法`normal_`和`fill_`来重写参数值。"
   ]
  },
  {
   "cell_type": "code",
   "execution_count": 5,
   "id": "5732e5a3-f11c-46b9-adab-dd9a834025c7",
   "metadata": {},
   "outputs": [
    {
     "data": {
      "text/plain": [
       "tensor([0.])"
      ]
     },
     "execution_count": 5,
     "metadata": {},
     "output_type": "execute_result"
    }
   ],
   "source": [
    "net[0].weight.data.normal_(0,0.01)\n",
    "net[0].bias.data.fill_(0)"
   ]
  },
  {
   "cell_type": "markdown",
   "id": "8e584291-26eb-40be-9d53-3de002336350",
   "metadata": {},
   "source": [
    "### 3.3.5. 定义损失函数\n",
    "计算均方误差使用的是`MSELoss`类，即$L_2$范数的平方。 默认情况下，它返回所有样本损失的平均值。"
   ]
  },
  {
   "cell_type": "code",
   "execution_count": 6,
   "id": "d99d14fd-126d-455d-aa88-66cce093f1bd",
   "metadata": {},
   "outputs": [],
   "source": [
    "loss = nn.MSELoss() # l2范数"
   ]
  },
  {
   "cell_type": "markdown",
   "id": "726268fc-37a5-4a67-a79e-52823921ae11",
   "metadata": {},
   "source": [
    "### 3.3.6. 定义优化算法\n",
    "小批量随机梯度下降算法是一种优化神经网络的标准工具，`PyTorch`在`optim`模块中实现了该算法的许多变种。当我们实例化一个`SGD`实例时，我们要指定优化的参数 （可通过`net.parameters()`从我们的模型中获得）以及优化算法所需的超参数字典。 小批量随机梯度下降只需要设置`lr`值，这里设置为`0.03`。"
   ]
  },
  {
   "cell_type": "code",
   "execution_count": 7,
   "id": "cd370dfd-748f-4ec6-9e68-3fcdf86ceede",
   "metadata": {},
   "outputs": [],
   "source": [
    "trainer = torch.optim.SGD(net.parameters(),lr = 0.03)"
   ]
  },
  {
   "cell_type": "markdown",
   "id": "3423563a-6e65-4d1f-955a-252260f21561",
   "metadata": {},
   "source": [
    "### 3.3.7. 训练\n",
    "通过深度学习框架的高级API来实现我们的模型只需要相对较少的代码。 我们不必单独分配参数、不必定义我们的损失函数，也不必手动实现小批量随机梯度下降。当我们需要更复杂的模型时，高级API的优势将大大增加。当我们有了所有的基本组件，训练过程代码与我们从零开始实现时所做的非常相似。\n",
    "\n",
    "回顾一下：在每个迭代周期里，我们将完整遍历一次数据集（`train_data`）， 不停地从中获取一个小批量的输入和相应的标签。 对于每一个小批量，我们会进行以下步骤:\n",
    "- 通过调用`net(X)`生成预测并计算损失`l`（前向传播）。\n",
    "- 通过进行反向传播来计算梯度。\n",
    "- 通过调用优化器来更新模型参数。\n",
    "为了更好的衡量训练效果，我们计算每个迭代周期后的损失，并打印它来监控训练过程。"
   ]
  },
  {
   "cell_type": "code",
   "execution_count": 8,
   "id": "8e810a26-3454-4b1f-b5d0-a35acefbef7b",
   "metadata": {},
   "outputs": [
    {
     "name": "stdout",
     "output_type": "stream",
     "text": [
      "epoch 1,loss 0.000213\n",
      "epoch 2,loss 0.000113\n",
      "epoch 3,loss 0.000113\n",
      "epoch 4,loss 0.000113\n",
      "epoch 5,loss 0.000113\n"
     ]
    }
   ],
   "source": [
    "num_epochs = 5\n",
    "for epoch in range(num_epochs):\n",
    "    for X,y in data_iter:\n",
    "        l = loss(net(X),y)\n",
    "        trainer.zero_grad() #清除之前的梯度累加\n",
    "        l.backward() # 反向传递\n",
    "        trainer.step() # 更新梯度\n",
    "    l = loss(net(features),labels) #每个epoch打印日志\n",
    "    print(f'epoch {epoch + 1},loss {l:f}')"
   ]
  },
  {
   "cell_type": "markdown",
   "id": "af91af72-92d0-4ea2-a8f8-5f509875c1b2",
   "metadata": {},
   "source": [
    "下面我们比较生成数据集的真实参数和通过有限数据训练获得的模型参数。 要访问参数，我们首先从net访问所需的层，然后读取该层的权重和偏置。正如在从零开始实现中一样，我们估计得到的参数与生成数据的真实参数非常接近。"
   ]
  },
  {
   "cell_type": "code",
   "execution_count": 9,
   "id": "ec066a02-40ae-42c4-987d-762b98455ba9",
   "metadata": {},
   "outputs": [
    {
     "name": "stdout",
     "output_type": "stream",
     "text": [
      "w的估计误差: tensor([0.0006, 0.0005])\n",
      "b的估计误差: tensor(-0.0001)\n"
     ]
    }
   ],
   "source": [
    "w = net[0].weight.data\n",
    "print(f'w的估计误差:',true_w - w.reshape(true_w.shape))\n",
    "b = net[0].bias.data\n",
    "print(f'b的估计误差:',true_b - b.reshape(torch.tensor(true_b).shape))"
   ]
  },
  {
   "cell_type": "markdown",
   "id": "d00946ef-309c-4245-bff1-ec0c2dba6321",
   "metadata": {},
   "source": [
    "### 3.3.8. 小结\n",
    "- 我们可以使用PyTorch的高级API更简洁地实现模型。\n",
    "- 在PyTorch中，data模块提供了数据处理工具，nn模块定义了大量的神经网络层和常见损失函数。\n",
    "- 我们可以通过_结尾的方法将参数替换，从而初始化参数。"
   ]
  }
 ],
 "metadata": {
  "kernelspec": {
   "display_name": "Python 3 (ipykernel)",
   "language": "python",
   "name": "python3"
  },
  "language_info": {
   "codemirror_mode": {
    "name": "ipython",
    "version": 3
   },
   "file_extension": ".py",
   "mimetype": "text/x-python",
   "name": "python",
   "nbconvert_exporter": "python",
   "pygments_lexer": "ipython3",
   "version": "3.9.21"
  },
  "widgets": {
   "application/vnd.jupyter.widget-state+json": {
    "state": {},
    "version_major": 2,
    "version_minor": 0
   }
  }
 },
 "nbformat": 4,
 "nbformat_minor": 5
}
