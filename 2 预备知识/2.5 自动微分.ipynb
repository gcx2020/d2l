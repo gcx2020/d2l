{
 "cells": [
  {
   "cell_type": "markdown",
   "id": "8e76500e-54fa-46e0-9721-70dd89938f94",
   "metadata": {},
   "source": [
    "## 2.5. 自动微分\n",
    "正如 `2.4`节中所说，求导是几乎所有深度学习优化算法的关键步骤。 虽然求导的计算很简单，只需要一些基本的微积分。但对于复杂的模型，手工进行更新是一件很痛苦的事情（而且经常容易出错）。\n",
    "深度学习框架通过自动计算导数，即**自动微分（automatic differentiation）来加快求导**。 实际中，根据设计好的模型，系统会构建一个计算图（computational graph）， 来跟踪计算是哪些数据通过哪些操作组合起来产生输出。 **自动微分使系统能够随后反向传播梯度**。 这里，反向传播（backpropagate）意味着跟踪整个计算图，填充关于每个参数的偏导数。"
   ]
  },
  {
   "cell_type": "markdown",
   "id": "970f9eee-a57a-4d67-9ff1-1bfd8452a33d",
   "metadata": {},
   "source": [
    "### 2.5.1. 一个简单的例子\n",
    "作为一个演示例子，假设我们想对函数$y=2\\mathbf{x}^{\\top}\\mathbf{x}$关于列向量$\\mathbf{x}$求导。 首先，我们创建变量$x$并为其分配一个初始值。"
   ]
  },
  {
   "cell_type": "code",
   "execution_count": 6,
   "id": "ed9323d6-bb3a-4b99-bee8-fe7a34238261",
   "metadata": {},
   "outputs": [
    {
     "data": {
      "text/plain": [
       "tensor([0., 1., 2., 3.])"
      ]
     },
     "execution_count": 6,
     "metadata": {},
     "output_type": "execute_result"
    }
   ],
   "source": [
    "import torch\n",
    "\n",
    "x = torch.arange(4.0)\n",
    "x"
   ]
  },
  {
   "cell_type": "markdown",
   "id": "d853f10f-6128-4883-832e-c83685877566",
   "metadata": {},
   "source": [
    "在我们计算$y$关于$\\mathbf{x}$的梯度之前，需要一个地方来存储梯度。 **重要的是，我们不会在每次对一个参数求导时都分配新的内存。 因为我们经常会成千上万次地更新相同的参数，每次都分配新的内存可能很快就会将内存耗尽**。 注意，一个标量函数关于向量$\\mathbf{x}$的梯度是向量，并且与$\\mathbf{x}$具有相同的形状。"
   ]
  },
  {
   "cell_type": "code",
   "execution_count": 7,
   "id": "2bee5ceb-8177-4065-a991-4d27a5de7d21",
   "metadata": {},
   "outputs": [],
   "source": [
    "import torch\n",
    "\n",
    "x = torch.arange(4.0)\n",
    "x.requires_grad_(True) # 等价于x=torch.arange(4.0,requires_grad=True)\n",
    "x.grad # 默认值是None"
   ]
  },
  {
   "cell_type": "markdown",
   "id": "062903ce-c1f9-436d-b6b8-44d6321a01d2",
   "metadata": {},
   "source": [
    "现在计算$y$。"
   ]
  },
  {
   "cell_type": "code",
   "execution_count": 8,
   "id": "aa9aeb04-c8ef-4834-9f8b-cfe42337c15f",
   "metadata": {},
   "outputs": [
    {
     "data": {
      "text/plain": [
       "tensor(28., grad_fn=<MulBackward0>)"
      ]
     },
     "execution_count": 8,
     "metadata": {},
     "output_type": "execute_result"
    }
   ],
   "source": [
    "y = 2 * torch.dot(x, x)\n",
    "y"
   ]
  },
  {
   "cell_type": "markdown",
   "id": "00459c23-f161-4607-b8d4-9f2b7c4a2c24",
   "metadata": {},
   "source": [
    "x是一个长度为4的向量，计算x和x的点积，得到了我们赋值给y的标量输出。 接下来，通过调用反向传播函数来自动计算y关于x每个分量的梯度，并打印这些梯度。"
   ]
  },
  {
   "cell_type": "code",
   "execution_count": 9,
   "id": "facb0676-499f-484d-84cc-85dc7b03ecfd",
   "metadata": {},
   "outputs": [
    {
     "data": {
      "text/plain": [
       "tensor([ 0.,  4.,  8., 12.])"
      ]
     },
     "execution_count": 9,
     "metadata": {},
     "output_type": "execute_result"
    }
   ],
   "source": [
    "y.backward()\n",
    "x.grad"
   ]
  },
  {
   "cell_type": "markdown",
   "id": "c6cb13b2-6e5e-4a7d-919a-a784297c4dbc",
   "metadata": {},
   "source": [
    "函数$y=2\\mathbf{x}^{\\top}\\mathbf{x}$关于$\\mathbf{x}$的梯度应为$4\\mathbf{x}$。 让我们快速验证这个梯度是否计算正确。"
   ]
  },
  {
   "cell_type": "code",
   "execution_count": 10,
   "id": "7a60de80-665b-4aea-ac22-b5efc94abd1e",
   "metadata": {},
   "outputs": [
    {
     "data": {
      "text/plain": [
       "tensor([True, True, True, True])"
      ]
     },
     "execution_count": 10,
     "metadata": {},
     "output_type": "execute_result"
    }
   ],
   "source": [
    "x.grad == 4 * x"
   ]
  },
  {
   "cell_type": "markdown",
   "id": "d194958a-0389-4cef-a06d-416fd6041ce5",
   "metadata": {},
   "source": [
    "现在计算x的另一个函数。"
   ]
  },
  {
   "cell_type": "code",
   "execution_count": 11,
   "id": "5b1c3161-4f3c-4f13-85b4-6ec5379f4a29",
   "metadata": {},
   "outputs": [
    {
     "data": {
      "text/plain": [
       "tensor([1., 1., 1., 1.])"
      ]
     },
     "execution_count": 11,
     "metadata": {},
     "output_type": "execute_result"
    }
   ],
   "source": [
    "# 在默认情况下，PyTorch会累积梯度，我们需要清除之前的值\n",
    "x.grad.zero_()\n",
    "y = x.sum()\n",
    "y.backward()\n",
    "x.grad"
   ]
  },
  {
   "cell_type": "markdown",
   "id": "9e8ea197-d7cc-4acd-b575-bc5c530981b0",
   "metadata": {},
   "source": [
    "### 2.5.2. 非标量变量的反向传播\n",
    "当y不是标量时，向量y关于向量x的导数的最自然解释是一个矩阵。 对于高阶和高维的y和x，求导的结果可以是一个高阶张量。\n",
    "\n",
    "然而，虽然这些更奇特的对象确实出现在高级机器学习中（包括深度学习中）， 但当调用向量的反向计算时，我们通常会试图计算一批训练样本中每个组成部分的损失函数的导数。 这里，我们的目的不是计算微分矩阵，而是单独计算批量中每个样本的偏导数之和。"
   ]
  },
  {
   "cell_type": "code",
   "execution_count": 12,
   "id": "674d88cc-bb8b-4e85-84a5-1f6205c61d97",
   "metadata": {},
   "outputs": [
    {
     "data": {
      "text/plain": [
       "tensor([0., 2., 4., 6.])"
      ]
     },
     "execution_count": 12,
     "metadata": {},
     "output_type": "execute_result"
    }
   ],
   "source": [
    "# 对非标量调用backward需要传入一个gradient参数，该参数指定微分函数关于self的梯度。\n",
    "# 本例只想求偏导数的和，所以传递一个1的梯度是合适的\n",
    "x.grad.zero_()\n",
    "y = x * x\n",
    "# 等价于y.backward(torch.ones(len(x)))\n",
    "y.sum().backward()\n",
    "x.grad"
   ]
  },
  {
   "cell_type": "markdown",
   "id": "4b394147-e511-4743-85d1-45768d3bc29b",
   "metadata": {},
   "source": [
    "### 2.5.3. 分离计算\n",
    "有时，我们希望将某些计算移动到记录的计算图之外。 例如，假设y是作为x的函数计算的，而z则是作为y和x的函数计算的。 想象一下，我们想计算z关于x的梯度，但由于某种原因，希望将y视为一个常数， 并且只考虑到x在y被计算后发挥的作用。\n",
    "\n",
    "这里可以分离y来返回一个新变量u，该变量与y具有相同的值， 但丢弃计算图中如何计算y的任何信息。 换句话说，梯度不会向后流经u到x。 因此，下面的反向传播函数计算z=u*x关于x的偏导数，同时将u作为常数处理， 而不是`z=x*x*x`关于x的偏导数。"
   ]
  },
  {
   "cell_type": "code",
   "execution_count": 26,
   "id": "2fb85f3f-ece7-433d-ac16-c393d982589b",
   "metadata": {},
   "outputs": [
    {
     "data": {
      "text/plain": [
       "(tensor([True, True, True, True]),\n",
       " tensor([0., 1., 4., 9.]),\n",
       " tensor([0., 1., 2., 3.], requires_grad=True))"
      ]
     },
     "execution_count": 26,
     "metadata": {},
     "output_type": "execute_result"
    }
   ],
   "source": [
    "x.grad.zero_()\n",
    "y = x * x\n",
    "u = y.detach()\n",
    "z = u * x\n",
    "\n",
    "z.sum().backward()\n",
    "x.grad == u,x.grad,x"
   ]
  },
  {
   "cell_type": "markdown",
   "id": "ff1d0836-f5bb-41ad-8165-b8eb6275bb3e",
   "metadata": {},
   "source": [
    "由于记录了y的计算结果，我们可以随后在y上调用反向传播， 得到y=x*x关于的x的导数，即2*x。"
   ]
  },
  {
   "cell_type": "code",
   "execution_count": 27,
   "id": "3063885c-54d1-458a-b98e-d94338f63e99",
   "metadata": {},
   "outputs": [
    {
     "data": {
      "text/plain": [
       "(tensor([True, True, True, True]), tensor([0., 2., 4., 6.]))"
      ]
     },
     "execution_count": 27,
     "metadata": {},
     "output_type": "execute_result"
    }
   ],
   "source": [
    "x.grad.zero_()\n",
    "y.sum().backward()\n",
    "x.grad == 2 * x,x.grad"
   ]
  },
  {
   "cell_type": "markdown",
   "id": "bf988dbe-479d-4b1b-a521-567ddd91537e",
   "metadata": {},
   "source": [
    "### 2.5.4. Python控制流的梯度计算\n",
    "使用自动微分的一个好处是： **即使构建函数的计算图需要通过Python控制流（例如，条件、循环或任意函数调用）**，我们仍然可以计算得到的变量的梯度。 在下面的代码中，while循环的迭代次数和if语句的结果都取决于输入a的值。"
   ]
  },
  {
   "cell_type": "code",
   "execution_count": 28,
   "id": "09b6902e-b712-4542-836f-6aeca0cfb349",
   "metadata": {},
   "outputs": [],
   "source": [
    "def f(a):\n",
    "    b = a * 2\n",
    "    while b.norm() < 1000:\n",
    "        b = b * 2\n",
    "    if b.sum() > 0:\n",
    "        c = b\n",
    "    else:\n",
    "        c = 100 * b\n",
    "    return c"
   ]
  },
  {
   "cell_type": "markdown",
   "id": "d2ce44b1-797a-4c2e-911a-09ab98b61f3d",
   "metadata": {},
   "source": [
    "让我们计算梯度。"
   ]
  },
  {
   "cell_type": "code",
   "execution_count": 29,
   "id": "18ee9d0b-2bea-4cd5-b645-d279961166a1",
   "metadata": {},
   "outputs": [],
   "source": [
    "a = torch.randn(size=(), requires_grad=True)\n",
    "d = f(a)\n",
    "d.backward()"
   ]
  },
  {
   "cell_type": "markdown",
   "id": "a1b2d9a1-410e-43aa-a14e-5b877820a1c1",
   "metadata": {},
   "source": [
    "我们现在可以分析上面定义的f函数。 请注意，它在其输入a中是分段线性的。 换言之，对于任何a，存在某个常量标量k，使得f(a)=k*a，其中k的值取决于输入a，因此可以用d/a验证梯度是否正确。"
   ]
  },
  {
   "cell_type": "code",
   "execution_count": 30,
   "id": "6861e59d-1727-4965-8307-342fd7137844",
   "metadata": {},
   "outputs": [
    {
     "data": {
      "text/plain": [
       "tensor(True)"
      ]
     },
     "execution_count": 30,
     "metadata": {},
     "output_type": "execute_result"
    }
   ],
   "source": [
    "a.grad == d / a"
   ]
  },
  {
   "cell_type": "markdown",
   "id": "775f4153-7537-48d8-9bc4-02890312c1b6",
   "metadata": {},
   "source": [
    "### 2.5.5. 小结\n",
    "深度学习框架可以自动计算导数：我们首先将梯度附加到想要对其计算偏导数的变量上，然后记录目标值的计算，执行它的反向传播函数，并访问得到的梯度。"
   ]
  }
 ],
 "metadata": {
  "kernelspec": {
   "display_name": "Python 3 (ipykernel)",
   "language": "python",
   "name": "python3"
  },
  "language_info": {
   "codemirror_mode": {
    "name": "ipython",
    "version": 3
   },
   "file_extension": ".py",
   "mimetype": "text/x-python",
   "name": "python",
   "nbconvert_exporter": "python",
   "pygments_lexer": "ipython3",
   "version": "3.9.21"
  },
  "widgets": {
   "application/vnd.jupyter.widget-state+json": {
    "state": {},
    "version_major": 2,
    "version_minor": 0
   }
  }
 },
 "nbformat": 4,
 "nbformat_minor": 5
}
