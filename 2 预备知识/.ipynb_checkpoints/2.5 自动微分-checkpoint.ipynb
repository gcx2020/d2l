{
 "cells": [
  {
   "cell_type": "markdown",
   "id": "8e76500e-54fa-46e0-9721-70dd89938f94",
   "metadata": {},
   "source": [
    "## 2.5. 自动微分\n",
    "正如 `2.4`节中所说，求导是几乎所有深度学习优化算法的关键步骤。 虽然求导的计算很简单，只需要一些基本的微积分。但对于复杂的模型，手工进行更新是一件很痛苦的事情（而且经常容易出错）。\n",
    "深度学习框架通过自动计算导数，即**自动微分（automatic differentiation）来加快求导**。 实际中，根据设计好的模型，系统会构建一个计算图（computational graph）， 来跟踪计算是哪些数据通过哪些操作组合起来产生输出。 **自动微分使系统能够随后反向传播梯度**。 这里，反向传播（backpropagate）意味着跟踪整个计算图，填充关于每个参数的偏导数。"
   ]
  },
  {
   "cell_type": "markdown",
   "id": "970f9eee-a57a-4d67-9ff1-1bfd8452a33d",
   "metadata": {},
   "source": [
    "### 2.5.1. 一个简单的例子\n",
    "作为一个演示例子，假设我们想对函数$y=2\\mathbf{x}^{\\top}\\mathbf{x}$关于列向量$\\mathbf{x}$求导。 首先，我们创建变量$x$并为其分配一个初始值。"
   ]
  },
  {
   "cell_type": "code",
   "execution_count": 1,
   "id": "ed9323d6-bb3a-4b99-bee8-fe7a34238261",
   "metadata": {},
   "outputs": [
    {
     "data": {
      "text/plain": [
       "tensor([0, 1, 2, 3])"
      ]
     },
     "execution_count": 1,
     "metadata": {},
     "output_type": "execute_result"
    }
   ],
   "source": [
    "import torch\n",
    "\n",
    "x = torch.arange(4)\n",
    "x"
   ]
  },
  {
   "cell_type": "markdown",
   "id": "d853f10f-6128-4883-832e-c83685877566",
   "metadata": {},
   "source": [
    "在我们计算$y$关于$\\mathbf{x}$的梯度之前，需要一个地方来存储梯度。 **重要的是，我们不会在每次对一个参数求导时都分配新的内存。 因为我们经常会成千上万次地更新相同的参数，每次都分配新的内存可能很快就会将内存耗尽**。 注意，一个标量函数关于向量$\\mathbf{x}$的梯度是向量，并且与$\\mathbf{x}$具有相同的形状。"
   ]
  },
  {
   "cell_type": "code",
   "execution_count": 3,
   "id": "2bee5ceb-8177-4065-a991-4d27a5de7d21",
   "metadata": {},
   "outputs": [
    {
     "ename": "AttributeError",
     "evalue": "'Tensor' object has no attribute 'requires_guard_'",
     "output_type": "error",
     "traceback": [
      "\u001b[0;31m---------------------------------------------------------------------------\u001b[0m",
      "\u001b[0;31mAttributeError\u001b[0m                            Traceback (most recent call last)",
      "Cell \u001b[0;32mIn[3], line 4\u001b[0m\n\u001b[1;32m      1\u001b[0m \u001b[38;5;28;01mimport\u001b[39;00m\u001b[38;5;250m \u001b[39m\u001b[38;5;21;01mtorch\u001b[39;00m\n\u001b[1;32m      3\u001b[0m x \u001b[38;5;241m=\u001b[39m torch\u001b[38;5;241m.\u001b[39marange(\u001b[38;5;241m4\u001b[39m)\n\u001b[0;32m----> 4\u001b[0m \u001b[43mx\u001b[49m\u001b[38;5;241;43m.\u001b[39;49m\u001b[43mrequires_guard_\u001b[49m(\u001b[38;5;28;01mTrue\u001b[39;00m) \u001b[38;5;66;03m# 等价于x=torch.arange(4.0,requires_grad=True)\u001b[39;00m\n\u001b[1;32m      5\u001b[0m x\u001b[38;5;241m.\u001b[39mgrad \u001b[38;5;66;03m# 默认值是None\u001b[39;00m\n",
      "\u001b[0;31mAttributeError\u001b[0m: 'Tensor' object has no attribute 'requires_guard_'"
     ]
    }
   ],
   "source": [
    "import torch\n",
    "\n",
    "x = torch.arange(4)\n",
    "x.requires_gard_(True) # 等价于x=torch.arange(4.0,requires_grad=True)\n",
    "x.grad # 默认值是None"
   ]
  },
  {
   "cell_type": "markdown",
   "id": "062903ce-c1f9-436d-b6b8-44d6321a01d2",
   "metadata": {},
   "source": [
    "现在计算$y$。"
   ]
  },
  {
   "cell_type": "code",
   "execution_count": null,
   "id": "aa9aeb04-c8ef-4834-9f8b-cfe42337c15f",
   "metadata": {},
   "outputs": [],
   "source": []
  },
  {
   "cell_type": "code",
   "execution_count": null,
   "id": "62048742-8262-43c7-9773-1a04d897b532",
   "metadata": {},
   "outputs": [],
   "source": []
  },
  {
   "cell_type": "code",
   "execution_count": null,
   "id": "facb0676-499f-484d-84cc-85dc7b03ecfd",
   "metadata": {},
   "outputs": [],
   "source": []
  },
  {
   "cell_type": "code",
   "execution_count": null,
   "id": "c19964f3-8782-42d8-93aa-80a1f43e8283",
   "metadata": {},
   "outputs": [],
   "source": []
  },
  {
   "cell_type": "code",
   "execution_count": null,
   "id": "7a60de80-665b-4aea-ac22-b5efc94abd1e",
   "metadata": {},
   "outputs": [],
   "source": []
  },
  {
   "cell_type": "code",
   "execution_count": null,
   "id": "67810f59-14a2-4787-8f2d-1621ba56c027",
   "metadata": {},
   "outputs": [],
   "source": []
  },
  {
   "cell_type": "code",
   "execution_count": null,
   "id": "5b1c3161-4f3c-4f13-85b4-6ec5379f4a29",
   "metadata": {},
   "outputs": [],
   "source": []
  },
  {
   "cell_type": "code",
   "execution_count": null,
   "id": "587a0285-cacd-4e52-885c-b6a7f5c6fee2",
   "metadata": {},
   "outputs": [],
   "source": []
  },
  {
   "cell_type": "code",
   "execution_count": null,
   "id": "674d88cc-bb8b-4e85-84a5-1f6205c61d97",
   "metadata": {},
   "outputs": [],
   "source": []
  },
  {
   "cell_type": "code",
   "execution_count": null,
   "id": "b5909cc6-2b99-4155-9c90-57671f4a2cc2",
   "metadata": {},
   "outputs": [],
   "source": []
  },
  {
   "cell_type": "code",
   "execution_count": null,
   "id": "e56d3ebe-237e-4475-86dc-cbaedd8ded3e",
   "metadata": {},
   "outputs": [],
   "source": []
  }
 ],
 "metadata": {
  "kernelspec": {
   "display_name": "Python 3 (ipykernel)",
   "language": "python",
   "name": "python3"
  },
  "language_info": {
   "codemirror_mode": {
    "name": "ipython",
    "version": 3
   },
   "file_extension": ".py",
   "mimetype": "text/x-python",
   "name": "python",
   "nbconvert_exporter": "python",
   "pygments_lexer": "ipython3",
   "version": "3.9.21"
  },
  "widgets": {
   "application/vnd.jupyter.widget-state+json": {
    "state": {},
    "version_major": 2,
    "version_minor": 0
   }
  }
 },
 "nbformat": 4,
 "nbformat_minor": 5
}
