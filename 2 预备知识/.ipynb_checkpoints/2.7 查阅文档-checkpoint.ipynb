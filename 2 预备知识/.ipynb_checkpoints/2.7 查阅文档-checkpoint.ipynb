{
 "cells": [
  {
   "cell_type": "markdown",
   "id": "5b16453f-8af1-42b0-bf9b-0cf0dcd57922",
   "metadata": {},
   "source": [
    "## 2.7. 查阅文档\n",
    "由于篇幅限制，本书不可能介绍每一个`PyTorch`函数和类。 `API`文档、其他教程和示例提供了本书之外的大量文档。 本节提供了一些查看`PyTorch API`的指导。"
   ]
  },
  {
   "cell_type": "markdown",
   "id": "99c5cfe0-6815-4168-9883-c8ad2bfa8877",
   "metadata": {},
   "source": [
    "### 2.7.1. 查找模块中的所有函数和类\n",
    "为了知道模块中可以调用哪些函数和类，可以调用`dir`函数。 例如，我们可以查询随机数生成模块中的所有属性："
   ]
  },
  {
   "cell_type": "code",
   "execution_count": 1,
   "id": "da70b04a-6e78-4eb3-aeae-fc60fd3da351",
   "metadata": {},
   "outputs": [
    {
     "name": "stdout",
     "output_type": "stream",
     "text": [
      "['AbsTransform', 'AffineTransform', 'Bernoulli', 'Beta', 'Binomial', 'CatTransform', 'Categorical', 'Cauchy', 'Chi2', 'ComposeTransform', 'ContinuousBernoulli', 'CorrCholeskyTransform', 'CumulativeDistributionTransform', 'Dirichlet', 'Distribution', 'ExpTransform', 'Exponential', 'ExponentialFamily', 'FisherSnedecor', 'Gamma', 'Geometric', 'Gumbel', 'HalfCauchy', 'HalfNormal', 'Independent', 'IndependentTransform', 'InverseGamma', 'Kumaraswamy', 'LKJCholesky', 'Laplace', 'LogNormal', 'LogisticNormal', 'LowRankMultivariateNormal', 'LowerCholeskyTransform', 'MixtureSameFamily', 'Multinomial', 'MultivariateNormal', 'NegativeBinomial', 'Normal', 'OneHotCategorical', 'OneHotCategoricalStraightThrough', 'Pareto', 'Poisson', 'PositiveDefiniteTransform', 'PowerTransform', 'RelaxedBernoulli', 'RelaxedOneHotCategorical', 'ReshapeTransform', 'SigmoidTransform', 'SoftmaxTransform', 'SoftplusTransform', 'StackTransform', 'StickBreakingTransform', 'StudentT', 'TanhTransform', 'Transform', 'TransformedDistribution', 'Uniform', 'VonMises', 'Weibull', 'Wishart', '__all__', '__builtins__', '__cached__', '__doc__', '__file__', '__loader__', '__name__', '__package__', '__path__', '__spec__', 'bernoulli', 'beta', 'biject_to', 'binomial', 'categorical', 'cauchy', 'chi2', 'constraint_registry', 'constraints', 'continuous_bernoulli', 'dirichlet', 'distribution', 'exp_family', 'exponential', 'fishersnedecor', 'gamma', 'geometric', 'gumbel', 'half_cauchy', 'half_normal', 'identity_transform', 'independent', 'inverse_gamma', 'kl', 'kl_divergence', 'kumaraswamy', 'laplace', 'lkj_cholesky', 'log_normal', 'logistic_normal', 'lowrank_multivariate_normal', 'mixture_same_family', 'multinomial', 'multivariate_normal', 'negative_binomial', 'normal', 'one_hot_categorical', 'pareto', 'poisson', 'register_kl', 'relaxed_bernoulli', 'relaxed_categorical', 'studentT', 'transform_to', 'transformed_distribution', 'transforms', 'uniform', 'utils', 'von_mises', 'weibull', 'wishart']\n"
     ]
    }
   ],
   "source": [
    "import torch\n",
    "\n",
    "print(dir(torch.distributions))"
   ]
  },
  {
   "cell_type": "markdown",
   "id": "b7693978-ddd7-4b15-ae7f-2fcfbfb8e86e",
   "metadata": {},
   "source": [
    "通常可以忽略以`“__”`（双下划线）开始和结束的函数，它们是`Python`中的特殊对象， 或以单个`“_”`（单下划线）开始的函数，它们通常是内部函数。 根据剩余的函数名或属性名，我们可能会猜测这个模块提供了各种生成随机数的方法， 包括从均匀分布`（uniform）`、`正态分布（normal）`和`多项分布（multinomial）中采样`。"
   ]
  },
  {
   "cell_type": "markdown",
   "id": "d55aaf81-41f6-4f75-8c3c-9295758caf11",
   "metadata": {},
   "source": [
    "### 2.7.2. 查找特定函数和类的用法\n",
    "有关如何使用给定函数或类的更具体说明，可以调用`help`函数。 例如，我们来查看张量`ones`函数的用法。"
   ]
  },
  {
   "cell_type": "code",
   "execution_count": 2,
   "id": "a86f2a33-98ba-4d52-bfc1-7e65151ce938",
   "metadata": {},
   "outputs": [
    {
     "name": "stdout",
     "output_type": "stream",
     "text": [
      "Help on built-in function ones in module torch:\n",
      "\n",
      "ones(...)\n",
      "    ones(*size, *, out=None, dtype=None, layout=torch.strided, device=None, requires_grad=False) -> Tensor\n",
      "    \n",
      "    Returns a tensor filled with the scalar value `1`, with the shape defined\n",
      "    by the variable argument :attr:`size`.\n",
      "    \n",
      "    Args:\n",
      "        size (int...): a sequence of integers defining the shape of the output tensor.\n",
      "            Can be a variable number of arguments or a collection like a list or tuple.\n",
      "    \n",
      "    Keyword arguments:\n",
      "        out (Tensor, optional): the output tensor.\n",
      "        dtype (:class:`torch.dtype`, optional): the desired data type of returned tensor.\n",
      "            Default: if ``None``, uses a global default (see :func:`torch.set_default_dtype`).\n",
      "        layout (:class:`torch.layout`, optional): the desired layout of returned Tensor.\n",
      "            Default: ``torch.strided``.\n",
      "        device (:class:`torch.device`, optional): the desired device of returned tensor.\n",
      "            Default: if ``None``, uses the current device for the default tensor type\n",
      "            (see :func:`torch.set_default_device`). :attr:`device` will be the CPU\n",
      "            for CPU tensor types and the current CUDA device for CUDA tensor types.\n",
      "        requires_grad (bool, optional): If autograd should record operations on the\n",
      "            returned tensor. Default: ``False``.\n",
      "    \n",
      "    Example::\n",
      "    \n",
      "        >>> torch.ones(2, 3)\n",
      "        tensor([[ 1.,  1.,  1.],\n",
      "                [ 1.,  1.,  1.]])\n",
      "    \n",
      "        >>> torch.ones(5)\n",
      "        tensor([ 1.,  1.,  1.,  1.,  1.])\n",
      "\n"
     ]
    }
   ],
   "source": [
    "import torch\n",
    "\n",
    "help(torch.ones)"
   ]
  },
  {
   "cell_type": "markdown",
   "id": "80b3af3b-4976-4cbf-af58-3e09e273133e",
   "metadata": {},
   "source": [
    "从文档中，我们可以看到`ones`函数创建一个具有指定形状的新张量，并将所有元素值设置为`1`。 下面来运行一个快速测试来确认这一解释："
   ]
  },
  {
   "cell_type": "code",
   "execution_count": 3,
   "id": "8cd35094-706c-4f85-8b96-9f451288e7e8",
   "metadata": {},
   "outputs": [
    {
     "data": {
      "text/plain": [
       "tensor([1., 1., 1., 1.])"
      ]
     },
     "execution_count": 3,
     "metadata": {},
     "output_type": "execute_result"
    }
   ],
   "source": [
    "import torch\n",
    "\n",
    "torch.ones(4)"
   ]
  },
  {
   "cell_type": "markdown",
   "id": "b3e74788-e24f-4968-a351-64a8355626c4",
   "metadata": {},
   "source": [
    "在`Jupyter`记事本中，我们可以使用`?指令`在另一个浏览器窗口中显示文档。 例如，`list?指令`将创建与`help(list)`指令几乎相同的内容，并在新的浏览器窗口中显示它。 此外，如果我们使用两个问号，如`list??`，将显示实现该函数的`Python代码`。"
   ]
  },
  {
   "cell_type": "markdown",
   "id": "1eedbe06-5c37-4aac-a4c8-b438c3647fbf",
   "metadata": {},
   "source": [
    "### 2.7.3. 小结\n",
    "- 官方文档提供了本书之外的大量描述和示例。\n",
    "- 可以通过调用dir和help函数或在Jupyter记事本中使用?和??查看API的用法文档。"
   ]
  }
 ],
 "metadata": {
  "kernelspec": {
   "display_name": "Python 3 (ipykernel)",
   "language": "python",
   "name": "python3"
  },
  "language_info": {
   "codemirror_mode": {
    "name": "ipython",
    "version": 3
   },
   "file_extension": ".py",
   "mimetype": "text/x-python",
   "name": "python",
   "nbconvert_exporter": "python",
   "pygments_lexer": "ipython3",
   "version": "3.9.21"
  },
  "widgets": {
   "application/vnd.jupyter.widget-state+json": {
    "state": {},
    "version_major": 2,
    "version_minor": 0
   }
  }
 },
 "nbformat": 4,
 "nbformat_minor": 5
}
